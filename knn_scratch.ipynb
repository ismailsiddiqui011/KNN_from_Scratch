{
 "cells": [
  {
   "cell_type": "code",
   "execution_count": 1,
   "metadata": {},
   "outputs": [],
   "source": [
    "import pandas as pd\n",
    "import numpy as np"
   ]
  },
  {
   "cell_type": "code",
   "execution_count": 2,
   "metadata": {},
   "outputs": [],
   "source": [
    "iris = pd.read_csv('iris.csv')\n",
    "df = iris.drop('species', axis = 1)"
   ]
  },
  {
   "cell_type": "markdown",
   "metadata": {},
   "source": [
    "## Standard Scaling"
   ]
  },
  {
   "cell_type": "code",
   "execution_count": 3,
   "metadata": {},
   "outputs": [],
   "source": [
    "df1 = pd.DataFrame() #Empty DataFrame\n",
    "len_col = len(df.columns.values) #Number of coloumns\n",
    "for j in range(len_col): #\n",
    "    summ = 0\n",
    "    data = df.iloc[ : , j:j+1 ].values\n",
    "    for i in data:\n",
    "        summ += i\n",
    "    mean = summ/(len(data))\n",
    "\n",
    "    diff = 0\n",
    "    summ = 0\n",
    "    for i in data:\n",
    "        diff = (i-mean)**2\n",
    "        summ += diff\n",
    "    sd = summ/(len(data))\n",
    "    sd = (sd)**(1/2)\n",
    "\n",
    "    arr = []\n",
    "    for i in data:\n",
    "        arr.append((i-mean)/(sd))\n",
    "    arr = np.array(arr)\n",
    "    arr = pd.DataFrame(data = arr)\n",
    "    df1 = pd.concat([df1, arr], axis = 1) #Created DataFrame for Simplified view"
   ]
  },
  {
   "cell_type": "code",
   "execution_count": 4,
   "metadata": {},
   "outputs": [],
   "source": [
    "df1 = df1.sample(frac=1).reset_index(drop=True) #Shuffling DataFrame"
   ]
  },
  {
   "cell_type": "markdown",
   "metadata": {},
   "source": [
    "## Eculidean Distance"
   ]
  },
  {
   "cell_type": "code",
   "execution_count": 5,
   "metadata": {},
   "outputs": [],
   "source": [
    "def e_dist(Xq, data):\n",
    "    import math\n",
    "    Xq = np.array(Xq) #Converting Input into array for simplicity\n",
    "    data = np.array(data)\n",
    "    dist = 0.0\n",
    "    for i in range(len(Xq)):\n",
    "        dist += math.pow(((Xq[i] - data[i])), 2)\n",
    "    return round(math.sqrt(dist), 5)"
   ]
  },
  {
   "cell_type": "markdown",
   "metadata": {},
   "source": [
    "## Nearest Neghbour"
   ]
  },
  {
   "cell_type": "code",
   "execution_count": 6,
   "metadata": {},
   "outputs": [],
   "source": [
    "def sorting_array(array):\n",
    "    for i in range(len(array)): #Sorting into Ascending Order\n",
    "        swap = i + np.argmin(array[i:])\n",
    "        (array[i], array[swap]) = (array[swap], array[i])\n",
    "    return array"
   ]
  },
  {
   "cell_type": "code",
   "execution_count": 7,
   "metadata": {},
   "outputs": [],
   "source": [
    "def neigh(data, Xq, k):\n",
    "    distance = np.empty(0)\n",
    "    for i in range(df1.shape[0]): #Inputing every row and appending its Eculidean Distance into array\n",
    "        temp = 0\n",
    "        temp = e_dist(Xq,df1.iloc[i])\n",
    "        distance = np.append(distance, temp)\n",
    "    distance = distance.reshape(150, 1)\n",
    "    distance = sorting_array(distance) #Sorting\n",
    "        \n",
    "    near = np.empty(0) # Empty array\n",
    "    for i in range(k):\n",
    "        near = np.append(near, distance[i])\n",
    "    label = iris['species'].values #Filtering Classification class\n",
    "    label = label.tolist() #Converting into list\n",
    "    distance = distance.tolist() #Converting into list\n",
    "    class_label = {} \n",
    "    for key in distance: # Creating Dictionary\n",
    "        for value in label: \n",
    "            class_label[key[0]] = value\n",
    "            label.remove(value) \n",
    "            break\n",
    "            \n",
    "    near = sorting_array(near) #Sorting\n",
    "    return near, class_label\n",
    "\n",
    "def predict(data, Xq, k):\n",
    "    result = neigh(data, Xq, k)\n",
    "    result, class_label = result[0], result[1]\n",
    "    output_values = result.tolist()\n",
    "    prediction = max(set(output_values), key = output_values.count)\n",
    "    print((class_label.get(prediction)))"
   ]
  },
  {
   "cell_type": "code",
   "execution_count": 8,
   "metadata": {},
   "outputs": [
    {
     "data": {
      "text/plain": [
       "[0.4321654045823549,\n",
       " -0.3563605663033637,\n",
       " 0.3078330109284846,\n",
       " 0.1332259429529646]"
      ]
     },
     "execution_count": 8,
     "metadata": {},
     "output_type": "execute_result"
    }
   ],
   "source": [
    "xq = list(df1.iloc[-1]) #Taking a Xq point to test\n",
    "xq"
   ]
  },
  {
   "cell_type": "code",
   "execution_count": 9,
   "metadata": {},
   "outputs": [
    {
     "name": "stdout",
     "output_type": "stream",
     "text": [
      "virginica\n"
     ]
    }
   ],
   "source": [
    "predict(df1, xq , 10) #Predicting on Xq point"
   ]
  },
  {
   "cell_type": "code",
   "execution_count": null,
   "metadata": {},
   "outputs": [],
   "source": []
  },
  {
   "cell_type": "code",
   "execution_count": null,
   "metadata": {},
   "outputs": [],
   "source": []
  }
 ],
 "metadata": {
  "kernelspec": {
   "display_name": "Python 3",
   "language": "python",
   "name": "python3"
  },
  "language_info": {
   "codemirror_mode": {
    "name": "ipython",
    "version": 3
   },
   "file_extension": ".py",
   "mimetype": "text/x-python",
   "name": "python",
   "nbconvert_exporter": "python",
   "pygments_lexer": "ipython3",
   "version": "3.8.3"
  }
 },
 "nbformat": 4,
 "nbformat_minor": 4
}
