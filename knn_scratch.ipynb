{
 "cells": [
  {
   "cell_type": "code",
   "execution_count": 1,
   "metadata": {},
   "outputs": [],
   "source": [
    "import pandas as pd\n",
    "import numpy as np"
   ]
  },
  {
   "cell_type": "code",
   "execution_count": 2,
   "metadata": {},
   "outputs": [],
   "source": [
    "df = pd.read_csv('iris.csv')\n",
    "#df = df.sample(frac=1).reset_index(drop=True) #Shuffling DataFrame"
   ]
  },
  {
   "cell_type": "markdown",
   "metadata": {},
   "source": [
    "## Standard Scaling"
   ]
  },
  {
   "cell_type": "code",
   "execution_count": 3,
   "metadata": {},
   "outputs": [],
   "source": [
    "train_y = df.iloc[50:, -1:]\n",
    "test_y = df.iloc[:50, -1:]"
   ]
  },
  {
   "cell_type": "code",
   "execution_count": 4,
   "metadata": {},
   "outputs": [],
   "source": [
    "df = df.drop('species', axis = 1)"
   ]
  },
  {
   "cell_type": "code",
   "execution_count": 5,
   "metadata": {},
   "outputs": [],
   "source": [
    "df1 = pd.DataFrame() #Empty DataFrame\n",
    "len_col = len(df.columns.values) #Number of coloumns\n",
    "for j in range(len_col): #\n",
    "    summ = 0\n",
    "    data = df.iloc[ : , j:j+1 ].values\n",
    "    for i in data:\n",
    "        summ += i\n",
    "    mean = summ/(len(data))\n",
    "\n",
    "    diff = 0\n",
    "    summ = 0\n",
    "    for i in data:\n",
    "        diff = (i-mean)**2\n",
    "        summ += diff\n",
    "    sd = summ/(len(data))\n",
    "    sd = (sd)**(1/2)\n",
    "\n",
    "    arr = []\n",
    "    for i in data:\n",
    "        arr.append((i-mean)/(sd))\n",
    "    arr = np.array(arr)\n",
    "    arr = pd.DataFrame(data = arr)\n",
    "    df1 = pd.concat([df1, arr], axis = 1) #Created DataFrame for Simplified view"
   ]
  },
  {
   "cell_type": "markdown",
   "metadata": {},
   "source": [
    "def stand_scal(df):\n",
    "    df_temp = pd.DataFrame() #Empty DataFrame\n",
    "    len_col = len(df.columns.values) #Number of coloumns\n",
    "    for j in range(len_col): #\n",
    "        summ = 0\n",
    "        data = df.iloc[ : , j:j+1 ].values\n",
    "        for i in data:\n",
    "            summ += i\n",
    "        mean = summ/(len(data))\n",
    "\n",
    "        diff = 0\n",
    "        summ = 0\n",
    "        \n",
    "        for i in data:\n",
    "            diff = (i-mean)**2\n",
    "            summ += diff\n",
    "        sd = summ/(len(data))\n",
    "        sd = (sd)**(1/2)\n",
    "\n",
    "        arr = []\n",
    "        for i in data:\n",
    "            arr.append((i-mean)/(sd))\n",
    "        arr = np.array(arr)\n",
    "        arr = pd.DataFrame(data = arr)\n",
    "        df_temp = pd.concat([df_temp, arr], axis = 1) #Created DataFrame for Simplified view\n",
    "    return df_temp"
   ]
  },
  {
   "cell_type": "code",
   "execution_count": 6,
   "metadata": {},
   "outputs": [],
   "source": [
    "train_x = df1.iloc[50:,:]\n",
    "test_x = df1.iloc[:50, :]"
   ]
  },
  {
   "cell_type": "markdown",
   "metadata": {},
   "source": [
    "## Eculidean Distance"
   ]
  },
  {
   "cell_type": "code",
   "execution_count": 7,
   "metadata": {},
   "outputs": [],
   "source": [
    "def e_dist(Xq, data):\n",
    "    import math\n",
    "    Xq = np.array(Xq) #Converting Input into array for simplicity\n",
    "    data = np.array(data)\n",
    "    dist = 0.0\n",
    "    for i in range(len(Xq)):\n",
    "        dist += math.pow(((Xq[i] - data[i])), 2)\n",
    "    return round(math.sqrt(dist), 5)"
   ]
  },
  {
   "cell_type": "markdown",
   "metadata": {},
   "source": [
    "## Nearest Neghbour"
   ]
  },
  {
   "cell_type": "code",
   "execution_count": 8,
   "metadata": {},
   "outputs": [],
   "source": [
    "def sorting_array(array):\n",
    "    for i in range(len(array)): #Sorting into Ascending Order\n",
    "        swap = i + np.argmin(array[i:])\n",
    "        (array[i], array[swap]) = (array[swap], array[i])\n",
    "    return array"
   ]
  },
  {
   "cell_type": "code",
   "execution_count": 9,
   "metadata": {},
   "outputs": [],
   "source": [
    "def neigh(df, y, k, Xq):\n",
    "    distance = np.empty(0)\n",
    "    for i in range(df.shape[0]): #Inputing every row and appending its Eculidean Distance into array\n",
    "        temp = 0\n",
    "        temp = e_dist(Xq,df.iloc[i])\n",
    "        distance = np.append(distance, temp)\n",
    "    distance = distance.reshape(df.shape[0], 1)\n",
    "    distance = sorting_array(distance) #Sorting\n",
    "        \n",
    "    near = np.empty(0) # Empty array\n",
    "    for i in range(k):\n",
    "        near = np.append(near, distance[i])\n",
    "    label = y['species'].values #Filtering Classification class\n",
    "    #label = df['species'].values\n",
    "    label = label.tolist() #Converting into list\n",
    "    distance = distance.tolist() #Converting into list\n",
    "    class_label = {} \n",
    "    for key in distance: # Creating Dictionary\n",
    "        for value in label: \n",
    "            class_label[key[0]] = value\n",
    "            label.remove(value) \n",
    "            break\n",
    "    near = sorting_array(near) #Sorting\n",
    "    return near, class_label\n",
    "\n",
    "def predict(df, y, k, Xq):\n",
    "    result = neigh(df, y, k, Xq)\n",
    "    result, class_label = result[0], result[1]\n",
    "    output_values = result.tolist()\n",
    "    prediction = max(set(output_values), key = output_values.count)\n",
    "    return (class_label.get(prediction))"
   ]
  },
  {
   "cell_type": "markdown",
   "metadata": {},
   "source": [
    "## Traning Model"
   ]
  },
  {
   "cell_type": "code",
   "execution_count": 10,
   "metadata": {},
   "outputs": [
    {
     "name": "stderr",
     "output_type": "stream",
     "text": [
      "100%|████████████████████████████████████████████████████████████████████████████████| 100/100 [00:01<00:00, 77.45it/s]\n",
      "  8%|██████▌                                                                           | 8/100 [00:00<00:01, 76.19it/s]"
     ]
    },
    {
     "name": "stdout",
     "output_type": "stream",
     "text": [
      "When K :  1 Accuracy:  100.0 % Inaccuracy:  0.0 %\n"
     ]
    },
    {
     "name": "stderr",
     "output_type": "stream",
     "text": [
      "100%|████████████████████████████████████████████████████████████████████████████████| 100/100 [00:01<00:00, 66.66it/s]\n",
      "  8%|██████▌                                                                           | 8/100 [00:00<00:01, 73.39it/s]"
     ]
    },
    {
     "name": "stdout",
     "output_type": "stream",
     "text": [
      "When K :  3 Accuracy:  100.0 % Inaccuracy:  0.0 %\n"
     ]
    },
    {
     "name": "stderr",
     "output_type": "stream",
     "text": [
      "100%|████████████████████████████████████████████████████████████████████████████████| 100/100 [00:01<00:00, 77.51it/s]\n",
      "  6%|████▉                                                                             | 6/100 [00:00<00:01, 50.00it/s]"
     ]
    },
    {
     "name": "stdout",
     "output_type": "stream",
     "text": [
      "When K :  5 Accuracy:  100.0 % Inaccuracy:  0.0 %\n"
     ]
    },
    {
     "name": "stderr",
     "output_type": "stream",
     "text": [
      "100%|████████████████████████████████████████████████████████████████████████████████| 100/100 [00:01<00:00, 70.82it/s]\n",
      "  7%|█████▋                                                                            | 7/100 [00:00<00:01, 65.42it/s]"
     ]
    },
    {
     "name": "stdout",
     "output_type": "stream",
     "text": [
      "When K :  7 Accuracy:  100.0 % Inaccuracy:  0.0 %\n"
     ]
    },
    {
     "name": "stderr",
     "output_type": "stream",
     "text": [
      "100%|████████████████████████████████████████████████████████████████████████████████| 100/100 [00:01<00:00, 68.49it/s]\n",
      "  5%|████                                                                              | 5/100 [00:00<00:01, 47.62it/s]"
     ]
    },
    {
     "name": "stdout",
     "output_type": "stream",
     "text": [
      "When K :  9 Accuracy:  100.0 % Inaccuracy:  0.0 %\n"
     ]
    },
    {
     "name": "stderr",
     "output_type": "stream",
     "text": [
      "100%|████████████████████████████████████████████████████████████████████████████████| 100/100 [00:01<00:00, 71.22it/s]\n",
      "  5%|████                                                                              | 5/100 [00:00<00:02, 40.98it/s]"
     ]
    },
    {
     "name": "stdout",
     "output_type": "stream",
     "text": [
      "When K :  11 Accuracy:  100.0 % Inaccuracy:  0.0 %\n"
     ]
    },
    {
     "name": "stderr",
     "output_type": "stream",
     "text": [
      "100%|████████████████████████████████████████████████████████████████████████████████| 100/100 [00:01<00:00, 63.57it/s]\n",
      "  4%|███▎                                                                              | 4/100 [00:00<00:02, 37.03it/s]"
     ]
    },
    {
     "name": "stdout",
     "output_type": "stream",
     "text": [
      "When K :  13 Accuracy:  100.0 % Inaccuracy:  0.0 %\n"
     ]
    },
    {
     "name": "stderr",
     "output_type": "stream",
     "text": [
      "100%|████████████████████████████████████████████████████████████████████████████████| 100/100 [00:01<00:00, 69.88it/s]\n",
      "  7%|█████▋                                                                            | 7/100 [00:00<00:01, 70.00it/s]"
     ]
    },
    {
     "name": "stdout",
     "output_type": "stream",
     "text": [
      "When K :  15 Accuracy:  99.0 % Inaccuracy:  1.0 %\n"
     ]
    },
    {
     "name": "stderr",
     "output_type": "stream",
     "text": [
      "100%|████████████████████████████████████████████████████████████████████████████████| 100/100 [00:01<00:00, 64.97it/s]\n",
      "  8%|██████▌                                                                           | 8/100 [00:00<00:01, 77.67it/s]"
     ]
    },
    {
     "name": "stdout",
     "output_type": "stream",
     "text": [
      "When K :  17 Accuracy:  99.0 % Inaccuracy:  1.0 %\n"
     ]
    },
    {
     "name": "stderr",
     "output_type": "stream",
     "text": [
      "100%|████████████████████████████████████████████████████████████████████████████████| 100/100 [00:01<00:00, 68.77it/s]\n",
      "  9%|███████▍                                                                          | 9/100 [00:00<00:01, 83.33it/s]"
     ]
    },
    {
     "name": "stdout",
     "output_type": "stream",
     "text": [
      "When K :  19 Accuracy:  99.0 % Inaccuracy:  1.0 %\n"
     ]
    },
    {
     "name": "stderr",
     "output_type": "stream",
     "text": [
      "100%|████████████████████████████████████████████████████████████████████████████████| 100/100 [00:01<00:00, 68.68it/s]\n",
      "  5%|████                                                                              | 5/100 [00:00<00:02, 47.17it/s]"
     ]
    },
    {
     "name": "stdout",
     "output_type": "stream",
     "text": [
      "When K :  21 Accuracy:  99.0 % Inaccuracy:  1.0 %\n"
     ]
    },
    {
     "name": "stderr",
     "output_type": "stream",
     "text": [
      "100%|████████████████████████████████████████████████████████████████████████████████| 100/100 [00:01<00:00, 70.62it/s]\n",
      "  7%|█████▋                                                                            | 7/100 [00:00<00:01, 61.93it/s]"
     ]
    },
    {
     "name": "stdout",
     "output_type": "stream",
     "text": [
      "When K :  23 Accuracy:  99.0 % Inaccuracy:  1.0 %\n"
     ]
    },
    {
     "name": "stderr",
     "output_type": "stream",
     "text": [
      "100%|████████████████████████████████████████████████████████████████████████████████| 100/100 [00:01<00:00, 71.12it/s]\n",
      "  6%|████▉                                                                             | 6/100 [00:00<00:01, 53.57it/s]"
     ]
    },
    {
     "name": "stdout",
     "output_type": "stream",
     "text": [
      "When K :  25 Accuracy:  99.0 % Inaccuracy:  1.0 %\n"
     ]
    },
    {
     "name": "stderr",
     "output_type": "stream",
     "text": [
      "100%|████████████████████████████████████████████████████████████████████████████████| 100/100 [00:01<00:00, 64.39it/s]\n",
      "  5%|████                                                                              | 5/100 [00:00<00:02, 45.04it/s]"
     ]
    },
    {
     "name": "stdout",
     "output_type": "stream",
     "text": [
      "When K :  27 Accuracy:  99.0 % Inaccuracy:  1.0 %\n"
     ]
    },
    {
     "name": "stderr",
     "output_type": "stream",
     "text": [
      "100%|████████████████████████████████████████████████████████████████████████████████| 100/100 [00:01<00:00, 67.84it/s]"
     ]
    },
    {
     "name": "stdout",
     "output_type": "stream",
     "text": [
      "When K :  29 Accuracy:  99.0 % Inaccuracy:  1.0 %\n"
     ]
    },
    {
     "name": "stderr",
     "output_type": "stream",
     "text": [
      "\n"
     ]
    }
   ],
   "source": [
    "from tqdm import tqdm\n",
    "for k in range(1, 30, 2):   \n",
    "    pred = []\n",
    "    for i in tqdm(range(train_x.shape[0])): #Inputing every row and appending its Eculidean Distance into array\n",
    "            temp = (list(train_x.iloc[i]))\n",
    "            pred.append(predict(train_x, train_y, k, temp))\n",
    "    crt = 0\n",
    "    incrt = 0\n",
    "    for i in range(len(train_y.values)):\n",
    "        if list(train_y.values[i])[0] == pred[i]:\n",
    "            crt += 1\n",
    "        else:\n",
    "            incrt += 1\n",
    "    print('When K : ',k, 'Accuracy: ',crt/len(train_y)*100,'%', 'Inaccuracy: ',incrt/len(train_y)*100,'%')"
   ]
  },
  {
   "cell_type": "markdown",
   "metadata": {},
   "source": [
    "## Testing Model"
   ]
  },
  {
   "cell_type": "code",
   "execution_count": 11,
   "metadata": {},
   "outputs": [
    {
     "name": "stderr",
     "output_type": "stream",
     "text": [
      "100%|█████████████████████████████████████████████████████████████████████████████████| 50/50 [00:00<00:00, 144.08it/s]\n",
      " 16%|█████████████▎                                                                     | 8/50 [00:00<00:00, 74.76it/s]"
     ]
    },
    {
     "name": "stdout",
     "output_type": "stream",
     "text": [
      "When K:  1 Accuracy:  100.0 % Inaccuracy:  0.0 %\n"
     ]
    },
    {
     "name": "stderr",
     "output_type": "stream",
     "text": [
      "100%|█████████████████████████████████████████████████████████████████████████████████| 50/50 [00:00<00:00, 136.60it/s]\n",
      " 28%|██████████████████████▋                                                          | 14/50 [00:00<00:00, 135.92it/s]"
     ]
    },
    {
     "name": "stdout",
     "output_type": "stream",
     "text": [
      "When K:  3 Accuracy:  100.0 % Inaccuracy:  0.0 %\n"
     ]
    },
    {
     "name": "stderr",
     "output_type": "stream",
     "text": [
      "100%|█████████████████████████████████████████████████████████████████████████████████| 50/50 [00:00<00:00, 143.26it/s]\n",
      " 34%|███████████████████████████▌                                                     | 17/50 [00:00<00:00, 168.31it/s]"
     ]
    },
    {
     "name": "stdout",
     "output_type": "stream",
     "text": [
      "When K:  5 Accuracy:  100.0 % Inaccuracy:  0.0 %\n"
     ]
    },
    {
     "name": "stderr",
     "output_type": "stream",
     "text": [
      "100%|█████████████████████████████████████████████████████████████████████████████████| 50/50 [00:00<00:00, 167.21it/s]\n",
      " 32%|█████████████████████████▉                                                       | 16/50 [00:00<00:00, 158.41it/s]"
     ]
    },
    {
     "name": "stdout",
     "output_type": "stream",
     "text": [
      "When K:  7 Accuracy:  100.0 % Inaccuracy:  0.0 %\n"
     ]
    },
    {
     "name": "stderr",
     "output_type": "stream",
     "text": [
      "100%|█████████████████████████████████████████████████████████████████████████████████| 50/50 [00:00<00:00, 142.04it/s]\n",
      " 20%|████████████████▍                                                                 | 10/50 [00:00<00:00, 93.46it/s]"
     ]
    },
    {
     "name": "stdout",
     "output_type": "stream",
     "text": [
      "When K:  9 Accuracy:  100.0 % Inaccuracy:  0.0 %\n"
     ]
    },
    {
     "name": "stderr",
     "output_type": "stream",
     "text": [
      "100%|█████████████████████████████████████████████████████████████████████████████████| 50/50 [00:00<00:00, 109.64it/s]\n",
      " 30%|████████████████████████▎                                                        | 15/50 [00:00<00:00, 147.05it/s]"
     ]
    },
    {
     "name": "stdout",
     "output_type": "stream",
     "text": [
      "When K:  11 Accuracy:  100.0 % Inaccuracy:  0.0 %\n"
     ]
    },
    {
     "name": "stderr",
     "output_type": "stream",
     "text": [
      "100%|█████████████████████████████████████████████████████████████████████████████████| 50/50 [00:00<00:00, 133.32it/s]\n",
      " 26%|█████████████████████                                                            | 13/50 [00:00<00:00, 123.80it/s]"
     ]
    },
    {
     "name": "stdout",
     "output_type": "stream",
     "text": [
      "When K:  13 Accuracy:  100.0 % Inaccuracy:  0.0 %\n"
     ]
    },
    {
     "name": "stderr",
     "output_type": "stream",
     "text": [
      "100%|█████████████████████████████████████████████████████████████████████████████████| 50/50 [00:00<00:00, 129.52it/s]\n",
      " 66%|█████████████████████████████████████████████████████▍                           | 33/50 [00:00<00:00, 162.40it/s]"
     ]
    },
    {
     "name": "stdout",
     "output_type": "stream",
     "text": [
      "When K:  15 Accuracy:  100.0 % Inaccuracy:  0.0 %\n"
     ]
    },
    {
     "name": "stderr",
     "output_type": "stream",
     "text": [
      "100%|█████████████████████████████████████████████████████████████████████████████████| 50/50 [00:00<00:00, 153.36it/s]\n",
      " 34%|███████████████████████████▌                                                     | 17/50 [00:00<00:00, 169.99it/s]"
     ]
    },
    {
     "name": "stdout",
     "output_type": "stream",
     "text": [
      "When K:  17 Accuracy:  100.0 % Inaccuracy:  0.0 %\n"
     ]
    },
    {
     "name": "stderr",
     "output_type": "stream",
     "text": [
      "100%|█████████████████████████████████████████████████████████████████████████████████| 50/50 [00:00<00:00, 140.05it/s]\n",
      " 38%|███████████████████████████████▏                                                  | 19/50 [00:00<00:00, 79.84it/s]"
     ]
    },
    {
     "name": "stdout",
     "output_type": "stream",
     "text": [
      "When K:  19 Accuracy:  100.0 % Inaccuracy:  0.0 %\n"
     ]
    },
    {
     "name": "stderr",
     "output_type": "stream",
     "text": [
      "100%|█████████████████████████████████████████████████████████████████████████████████| 50/50 [00:00<00:00, 110.12it/s]\n",
      " 18%|██████████████▉                                                                    | 9/50 [00:00<00:00, 80.35it/s]"
     ]
    },
    {
     "name": "stdout",
     "output_type": "stream",
     "text": [
      "When K:  21 Accuracy:  100.0 % Inaccuracy:  0.0 %\n"
     ]
    },
    {
     "name": "stderr",
     "output_type": "stream",
     "text": [
      "100%|█████████████████████████████████████████████████████████████████████████████████| 50/50 [00:00<00:00, 111.85it/s]\n",
      " 26%|█████████████████████                                                            | 13/50 [00:00<00:00, 128.71it/s]"
     ]
    },
    {
     "name": "stdout",
     "output_type": "stream",
     "text": [
      "When K:  23 Accuracy:  100.0 % Inaccuracy:  0.0 %\n"
     ]
    },
    {
     "name": "stderr",
     "output_type": "stream",
     "text": [
      "100%|█████████████████████████████████████████████████████████████████████████████████| 50/50 [00:00<00:00, 145.34it/s]\n",
      " 20%|████████████████▏                                                                | 10/50 [00:00<00:00, 100.00it/s]"
     ]
    },
    {
     "name": "stdout",
     "output_type": "stream",
     "text": [
      "When K:  25 Accuracy:  100.0 % Inaccuracy:  0.0 %\n"
     ]
    },
    {
     "name": "stderr",
     "output_type": "stream",
     "text": [
      "100%|█████████████████████████████████████████████████████████████████████████████████| 50/50 [00:00<00:00, 112.86it/s]\n",
      " 20%|████████████████▍                                                                 | 10/50 [00:00<00:00, 93.45it/s]"
     ]
    },
    {
     "name": "stdout",
     "output_type": "stream",
     "text": [
      "When K:  27 Accuracy:  100.0 % Inaccuracy:  0.0 %\n"
     ]
    },
    {
     "name": "stderr",
     "output_type": "stream",
     "text": [
      "100%|█████████████████████████████████████████████████████████████████████████████████| 50/50 [00:00<00:00, 136.23it/s]"
     ]
    },
    {
     "name": "stdout",
     "output_type": "stream",
     "text": [
      "When K:  29 Accuracy:  100.0 % Inaccuracy:  0.0 %\n"
     ]
    },
    {
     "name": "stderr",
     "output_type": "stream",
     "text": [
      "\n"
     ]
    }
   ],
   "source": [
    "from tqdm import tqdm\n",
    "for k in range(1, 30, 2):\n",
    "    pred = []\n",
    "    for i in tqdm(range(test_x.shape[0])): #Inputing every row and appending its Eculidean Distance into array\n",
    "            temp = (list(test_x.iloc[i]))\n",
    "            pred.append(predict(test_x, test_y, k, temp))\n",
    "    crt = 0\n",
    "    incrt = 0\n",
    "    for i in range(len(test_y.values)):\n",
    "        if list(test_y.values[i])[0] == pred[i]:\n",
    "            crt += 1\n",
    "        else:\n",
    "            incrt += 1\n",
    "    print('When K: ',k,'Accuracy: ',(crt/(len(test_y))*100),'%', 'Inaccuracy: ',(incrt/(len(test_y))*100),'%')"
   ]
  },
  {
   "cell_type": "markdown",
   "metadata": {},
   "source": [
    "## Best K is 15, Training Accuracy is 99% and Test Accuracy is 100%"
   ]
  },
  {
   "cell_type": "markdown",
   "metadata": {},
   "source": [
    "## KNN from Sklearn"
   ]
  },
  {
   "cell_type": "markdown",
   "metadata": {},
   "source": [
    "## Training "
   ]
  },
  {
   "cell_type": "code",
   "execution_count": 12,
   "metadata": {},
   "outputs": [
    {
     "name": "stdout",
     "output_type": "stream",
     "text": [
      "1  :  100.0\n",
      "3  :  93.0\n",
      "5  :  93.0\n",
      "7  :  95.0\n",
      "9  :  94.0\n",
      "11  :  94.0\n",
      "13  :  95.0\n",
      "15  :  95.0\n",
      "17  :  95.0\n",
      "19  :  95.0\n",
      "21  :  94.0\n",
      "23  :  94.0\n",
      "25  :  94.0\n",
      "27  :  94.0\n",
      "29  :  94.0\n"
     ]
    }
   ],
   "source": [
    "from sklearn.neighbors import KNeighborsClassifier\n",
    "from sklearn.metrics import accuracy_score\n",
    "for k in range(1, 30, 2):\n",
    "    knn = KNeighborsClassifier(n_neighbors = k )\n",
    "    knn.fit(train_x, train_y.values.ravel())\n",
    "    pred = knn.predict(train_x)\n",
    "    print(k,' : ', accuracy_score(pred, train_y.values.ravel())*100)"
   ]
  },
  {
   "cell_type": "markdown",
   "metadata": {},
   "source": [
    "## Testing"
   ]
  },
  {
   "cell_type": "code",
   "execution_count": 13,
   "metadata": {},
   "outputs": [
    {
     "name": "stdout",
     "output_type": "stream",
     "text": [
      "1  :  100.0\n",
      "3  :  100.0\n",
      "5  :  100.0\n",
      "7  :  100.0\n",
      "9  :  100.0\n",
      "11  :  100.0\n",
      "13  :  100.0\n",
      "15  :  100.0\n",
      "17  :  100.0\n",
      "19  :  100.0\n",
      "21  :  100.0\n",
      "23  :  100.0\n",
      "25  :  100.0\n",
      "27  :  100.0\n",
      "29  :  100.0\n"
     ]
    }
   ],
   "source": [
    "from sklearn.neighbors import KNeighborsClassifier\n",
    "from sklearn.metrics import accuracy_score\n",
    "for k in range(1, 30, 2):\n",
    "    knn = KNeighborsClassifier(n_neighbors = k )\n",
    "    knn.fit(test_x, test_y.values.ravel())\n",
    "    pred = knn.predict(test_x)\n",
    "    print(k,' : ', accuracy_score(pred, test_y.values.ravel())*100)"
   ]
  },
  {
   "cell_type": "code",
   "execution_count": null,
   "metadata": {},
   "outputs": [],
   "source": []
  }
 ],
 "metadata": {
  "kernelspec": {
   "display_name": "Python 3",
   "language": "python",
   "name": "python3"
  },
  "language_info": {
   "codemirror_mode": {
    "name": "ipython",
    "version": 3
   },
   "file_extension": ".py",
   "mimetype": "text/x-python",
   "name": "python",
   "nbconvert_exporter": "python",
   "pygments_lexer": "ipython3",
   "version": "3.8.3"
  }
 },
 "nbformat": 4,
 "nbformat_minor": 4
}
