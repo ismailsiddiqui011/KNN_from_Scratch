{
 "cells": [
  {
   "cell_type": "code",
   "execution_count": 1,
   "metadata": {},
   "outputs": [],
   "source": [
    "import pandas as pd\n",
    "import numpy as np"
   ]
  },
  {
   "cell_type": "code",
   "execution_count": 2,
   "metadata": {},
   "outputs": [],
   "source": [
    "df = pd.read_csv('iris.csv')"
   ]
  },
  {
   "cell_type": "markdown",
   "metadata": {},
   "source": [
    "## Standard Scaling"
   ]
  },
  {
   "cell_type": "code",
   "execution_count": 3,
   "metadata": {},
   "outputs": [],
   "source": [
    "train_y = df.iloc[50:, -1:]\n",
    "test_y = df.iloc[:50, -1:]"
   ]
  },
  {
   "cell_type": "code",
   "execution_count": 4,
   "metadata": {},
   "outputs": [],
   "source": [
    "df = df.drop('species', axis = 1)"
   ]
  },
  {
   "cell_type": "code",
   "execution_count": 5,
   "metadata": {},
   "outputs": [],
   "source": [
    "df1 = pd.DataFrame() #Empty DataFrame\n",
    "len_col = len(df.columns.values) #Number of coloumns\n",
    "for j in range(len_col): #\n",
    "    summ = 0\n",
    "    data = df.iloc[ : , j:j+1 ].values\n",
    "    for i in data:\n",
    "        summ += i\n",
    "    mean = summ/(len(data))\n",
    "\n",
    "    diff = 0\n",
    "    summ = 0\n",
    "    for i in data:\n",
    "        diff = (i-mean)**2\n",
    "        summ += diff\n",
    "    sd = summ/(len(data))\n",
    "    sd = (sd)**(1/2)\n",
    "\n",
    "    arr = []\n",
    "    for i in data:\n",
    "        arr.append((i-mean)/(sd))\n",
    "    arr = np.array(arr)\n",
    "    arr = pd.DataFrame(data = arr)\n",
    "    df1 = pd.concat([df1, arr], axis = 1) #Created DataFrame for Simplified view"
   ]
  },
  {
   "cell_type": "code",
   "execution_count": 6,
   "metadata": {},
   "outputs": [],
   "source": [
    "train_x = df1.iloc[50:,:]\n",
    "test_x = df1.iloc[:50, :]"
   ]
  },
  {
   "cell_type": "markdown",
   "metadata": {},
   "source": [
    "## Eculidean Distance"
   ]
  },
  {
   "cell_type": "code",
   "execution_count": 7,
   "metadata": {},
   "outputs": [],
   "source": [
    "def e_dist(Xq, data):\n",
    "    import math\n",
    "    Xq = np.array(Xq) #Converting Input into array for simplicity\n",
    "    data = np.array(data)\n",
    "    dist = 0.0\n",
    "    for i in range(len(Xq)):\n",
    "        dist += math.pow(((Xq[i] - data[i])), 2)\n",
    "    return round(math.sqrt(dist), 5)"
   ]
  },
  {
   "cell_type": "markdown",
   "metadata": {},
   "source": [
    "## Nearest Neghbour"
   ]
  },
  {
   "cell_type": "code",
   "execution_count": 8,
   "metadata": {},
   "outputs": [],
   "source": [
    "def sorting_array(array):\n",
    "    for i in range(len(array)): #Sorting into Ascending Order\n",
    "        swap = i + np.argmin(array[i:])\n",
    "        (array[i], array[swap]) = (array[swap], array[i])\n",
    "    return array"
   ]
  },
  {
   "cell_type": "code",
   "execution_count": 9,
   "metadata": {},
   "outputs": [],
   "source": [
    "def neigh(df, y, k, Xq):\n",
    "    distance = np.empty(0)\n",
    "    for i in range(df.shape[0]): #Inputing every row and appending its Eculidean Distance into array\n",
    "        temp = 0\n",
    "        temp = e_dist(Xq,df.iloc[i])\n",
    "        distance = np.append(distance, temp)\n",
    "    distance = distance.reshape(df.shape[0], 1)\n",
    "    distance = sorting_array(distance) #Sorting\n",
    "        \n",
    "    near = np.empty(0) # Empty array\n",
    "    for i in range(k):\n",
    "        near = np.append(near, distance[i])\n",
    "    label = y['species'].values #Filtering Classification class\n",
    "    #label = df['species'].values\n",
    "    label = label.tolist() #Converting into list\n",
    "    distance = distance.tolist() #Converting into list\n",
    "    class_label = {} \n",
    "    for key in distance: # Creating Dictionary\n",
    "        for value in label: \n",
    "            class_label[key[0]] = value\n",
    "            label.remove(value) \n",
    "            break\n",
    "    near = sorting_array(near) #Sorting\n",
    "    return near, class_label\n",
    "\n",
    "def predict(df, y, k, Xq):\n",
    "    result = neigh(df, y, k, Xq)\n",
    "    result, class_label = result[0], result[1]\n",
    "    output_values = result.tolist()\n",
    "    prediction = max(set(output_values), key = output_values.count)\n",
    "    return (class_label.get(prediction))"
   ]
  },
  {
   "cell_type": "markdown",
   "metadata": {},
   "source": [
    "## Traning Model"
   ]
  },
  {
   "cell_type": "code",
   "execution_count": 10,
   "metadata": {},
   "outputs": [
    {
     "name": "stderr",
     "output_type": "stream",
     "text": [
      "100%|████████████████████████████████████████████████████████████████████████████████| 100/100 [00:01<00:00, 76.51it/s]\n",
      "  8%|██████▌                                                                           | 8/100 [00:00<00:01, 71.43it/s]"
     ]
    },
    {
     "name": "stdout",
     "output_type": "stream",
     "text": [
      "When K :  1 Accuracy:  100.0 % Inaccuracy:  0.0 %\n"
     ]
    },
    {
     "name": "stderr",
     "output_type": "stream",
     "text": [
      "100%|████████████████████████████████████████████████████████████████████████████████| 100/100 [00:01<00:00, 76.51it/s]\n",
      "  8%|██████▌                                                                           | 8/100 [00:00<00:01, 77.66it/s]"
     ]
    },
    {
     "name": "stdout",
     "output_type": "stream",
     "text": [
      "When K :  3 Accuracy:  100.0 % Inaccuracy:  0.0 %\n"
     ]
    },
    {
     "name": "stderr",
     "output_type": "stream",
     "text": [
      "100%|████████████████████████████████████████████████████████████████████████████████| 100/100 [00:01<00:00, 80.12it/s]\n",
      "  9%|███████▍                                                                          | 9/100 [00:00<00:01, 84.11it/s]"
     ]
    },
    {
     "name": "stdout",
     "output_type": "stream",
     "text": [
      "When K :  5 Accuracy:  100.0 % Inaccuracy:  0.0 %\n"
     ]
    },
    {
     "name": "stderr",
     "output_type": "stream",
     "text": [
      "100%|████████████████████████████████████████████████████████████████████████████████| 100/100 [00:01<00:00, 77.33it/s]\n",
      "  6%|████▉                                                                             | 6/100 [00:00<00:01, 57.69it/s]"
     ]
    },
    {
     "name": "stdout",
     "output_type": "stream",
     "text": [
      "When K :  7 Accuracy:  100.0 % Inaccuracy:  0.0 %\n"
     ]
    },
    {
     "name": "stderr",
     "output_type": "stream",
     "text": [
      "100%|████████████████████████████████████████████████████████████████████████████████| 100/100 [00:01<00:00, 53.99it/s]\n",
      "  6%|████▉                                                                             | 6/100 [00:00<00:01, 57.69it/s]"
     ]
    },
    {
     "name": "stdout",
     "output_type": "stream",
     "text": [
      "When K :  9 Accuracy:  100.0 % Inaccuracy:  0.0 %\n"
     ]
    },
    {
     "name": "stderr",
     "output_type": "stream",
     "text": [
      "100%|████████████████████████████████████████████████████████████████████████████████| 100/100 [00:01<00:00, 68.49it/s]\n",
      "  7%|█████▋                                                                            | 7/100 [00:00<00:01, 70.00it/s]"
     ]
    },
    {
     "name": "stdout",
     "output_type": "stream",
     "text": [
      "When K :  11 Accuracy:  100.0 % Inaccuracy:  0.0 %\n"
     ]
    },
    {
     "name": "stderr",
     "output_type": "stream",
     "text": [
      "100%|████████████████████████████████████████████████████████████████████████████████| 100/100 [00:01<00:00, 74.34it/s]\n",
      "  7%|█████▋                                                                            | 7/100 [00:00<00:01, 68.62it/s]"
     ]
    },
    {
     "name": "stdout",
     "output_type": "stream",
     "text": [
      "When K :  13 Accuracy:  100.0 % Inaccuracy:  0.0 %\n"
     ]
    },
    {
     "name": "stderr",
     "output_type": "stream",
     "text": [
      "100%|████████████████████████████████████████████████████████████████████████████████| 100/100 [00:01<00:00, 76.86it/s]\n",
      " 14%|███████████▎                                                                     | 14/100 [00:00<00:01, 68.16it/s]"
     ]
    },
    {
     "name": "stdout",
     "output_type": "stream",
     "text": [
      "When K :  15 Accuracy:  99.0 % Inaccuracy:  1.0 %\n"
     ]
    },
    {
     "name": "stderr",
     "output_type": "stream",
     "text": [
      "100%|████████████████████████████████████████████████████████████████████████████████| 100/100 [00:01<00:00, 77.04it/s]\n",
      "  8%|██████▌                                                                           | 8/100 [00:00<00:01, 74.07it/s]"
     ]
    },
    {
     "name": "stdout",
     "output_type": "stream",
     "text": [
      "When K :  17 Accuracy:  99.0 % Inaccuracy:  1.0 %\n"
     ]
    },
    {
     "name": "stderr",
     "output_type": "stream",
     "text": [
      "100%|████████████████████████████████████████████████████████████████████████████████| 100/100 [00:01<00:00, 78.24it/s]\n",
      "  8%|██████▌                                                                           | 8/100 [00:00<00:01, 70.79it/s]"
     ]
    },
    {
     "name": "stdout",
     "output_type": "stream",
     "text": [
      "When K :  19 Accuracy:  99.0 % Inaccuracy:  1.0 %\n"
     ]
    },
    {
     "name": "stderr",
     "output_type": "stream",
     "text": [
      "100%|████████████████████████████████████████████████████████████████████████████████| 100/100 [00:01<00:00, 75.35it/s]\n",
      "  7%|█████▋                                                                            | 7/100 [00:00<00:01, 70.00it/s]"
     ]
    },
    {
     "name": "stdout",
     "output_type": "stream",
     "text": [
      "When K :  21 Accuracy:  99.0 % Inaccuracy:  1.0 %\n"
     ]
    },
    {
     "name": "stderr",
     "output_type": "stream",
     "text": [
      "100%|████████████████████████████████████████████████████████████████████████████████| 100/100 [00:01<00:00, 78.06it/s]\n",
      "  7%|█████▋                                                                            | 7/100 [00:00<00:01, 67.96it/s]"
     ]
    },
    {
     "name": "stdout",
     "output_type": "stream",
     "text": [
      "When K :  23 Accuracy:  99.0 % Inaccuracy:  1.0 %\n"
     ]
    },
    {
     "name": "stderr",
     "output_type": "stream",
     "text": [
      "100%|████████████████████████████████████████████████████████████████████████████████| 100/100 [00:01<00:00, 79.49it/s]\n",
      "  8%|██████▌                                                                           | 8/100 [00:00<00:01, 73.39it/s]"
     ]
    },
    {
     "name": "stdout",
     "output_type": "stream",
     "text": [
      "When K :  25 Accuracy:  99.0 % Inaccuracy:  1.0 %\n"
     ]
    },
    {
     "name": "stderr",
     "output_type": "stream",
     "text": [
      "100%|████████████████████████████████████████████████████████████████████████████████| 100/100 [00:01<00:00, 75.64it/s]\n",
      "  8%|██████▌                                                                           | 8/100 [00:00<00:01, 74.76it/s]"
     ]
    },
    {
     "name": "stdout",
     "output_type": "stream",
     "text": [
      "When K :  27 Accuracy:  99.0 % Inaccuracy:  1.0 %\n"
     ]
    },
    {
     "name": "stderr",
     "output_type": "stream",
     "text": [
      "100%|████████████████████████████████████████████████████████████████████████████████| 100/100 [00:01<00:00, 75.24it/s]"
     ]
    },
    {
     "name": "stdout",
     "output_type": "stream",
     "text": [
      "When K :  29 Accuracy:  99.0 % Inaccuracy:  1.0 %\n"
     ]
    },
    {
     "name": "stderr",
     "output_type": "stream",
     "text": [
      "\n"
     ]
    }
   ],
   "source": [
    "from tqdm import tqdm\n",
    "for k in range(1, 30, 2):   \n",
    "    pred = []\n",
    "    for i in tqdm(range(train_x.shape[0])): #Inputing every row and appending its Eculidean Distance into array\n",
    "            temp = (list(train_x.iloc[i]))\n",
    "            pred.append(predict(train_x, train_y, k, temp))\n",
    "    crt = 0\n",
    "    incrt = 0\n",
    "    for i in range(len(train_y.values)):\n",
    "        if list(train_y.values[i])[0] == pred[i]:\n",
    "            crt += 1\n",
    "        else:\n",
    "            incrt += 1\n",
    "    print('When K : ',k, 'Accuracy: ',crt/len(train_y)*100,'%', 'Inaccuracy: ',incrt/len(train_y)*100,'%')"
   ]
  },
  {
   "cell_type": "markdown",
   "metadata": {},
   "source": [
    "## Testing Model"
   ]
  },
  {
   "cell_type": "code",
   "execution_count": 11,
   "metadata": {},
   "outputs": [
    {
     "name": "stderr",
     "output_type": "stream",
     "text": [
      "100%|█████████████████████████████████████████████████████████████████████████████████| 50/50 [00:00<00:00, 156.24it/s]"
     ]
    },
    {
     "name": "stdout",
     "output_type": "stream",
     "text": [
      "When K:  13 Accuracy:  100.0 % Inaccuracy:  0.0 %\n"
     ]
    },
    {
     "name": "stderr",
     "output_type": "stream",
     "text": [
      "\n"
     ]
    }
   ],
   "source": [
    "from tqdm import tqdm\n",
    "k = 13\n",
    "pred = []\n",
    "for i in tqdm(range(test_x.shape[0])): #Inputing every row and appending its Eculidean Distance into array\n",
    "        temp = (list(test_x.iloc[i]))\n",
    "        pred.append(predict(test_x, test_y, k, temp))\n",
    "crt = 0\n",
    "incrt = 0\n",
    "for i in range(len(test_y.values)):\n",
    "    if list(test_y.values[i])[0] == pred[i]:\n",
    "        crt += 1\n",
    "    else:\n",
    "        incrt += 1\n",
    "print('When K: ',k,'Accuracy: ',(crt/(len(test_y))*100),'%', 'Inaccuracy: ',(incrt/(len(test_y))*100),'%')"
   ]
  },
  {
   "cell_type": "markdown",
   "metadata": {},
   "source": [
    "## Best K is 13, Training Accuracy is 100% and Test Accuracy is 100%"
   ]
  },
  {
   "cell_type": "markdown",
   "metadata": {},
   "source": [
    "## KNN from Sklearn"
   ]
  },
  {
   "cell_type": "markdown",
   "metadata": {},
   "source": [
    "## Training "
   ]
  },
  {
   "cell_type": "code",
   "execution_count": 12,
   "metadata": {},
   "outputs": [
    {
     "name": "stdout",
     "output_type": "stream",
     "text": [
      "K: 1 Accuracy:  100.0\n",
      "K: 3 Accuracy:  93.0\n",
      "K: 5 Accuracy:  93.0\n",
      "K: 7 Accuracy:  95.0\n",
      "K: 9 Accuracy:  94.0\n",
      "K: 11 Accuracy:  94.0\n",
      "K: 13 Accuracy:  95.0\n",
      "K: 15 Accuracy:  95.0\n",
      "K: 17 Accuracy:  95.0\n",
      "K: 19 Accuracy:  95.0\n",
      "K: 21 Accuracy:  94.0\n",
      "K: 23 Accuracy:  94.0\n",
      "K: 25 Accuracy:  94.0\n",
      "K: 27 Accuracy:  94.0\n",
      "K: 29 Accuracy:  94.0\n"
     ]
    }
   ],
   "source": [
    "from sklearn.neighbors import KNeighborsClassifier\n",
    "from sklearn.metrics import accuracy_score\n",
    "for k in range(1, 30, 2):\n",
    "    knn = KNeighborsClassifier(n_neighbors = k )\n",
    "    knn.fit(train_x, train_y.values.ravel())\n",
    "    pred = knn.predict(train_x)\n",
    "    print('K:',k,'Accuracy: ', accuracy_score(pred, train_y.values.ravel())*100)"
   ]
  },
  {
   "cell_type": "markdown",
   "metadata": {},
   "source": [
    "## Testing"
   ]
  },
  {
   "cell_type": "code",
   "execution_count": 13,
   "metadata": {},
   "outputs": [
    {
     "name": "stdout",
     "output_type": "stream",
     "text": [
      "K: 13 Accuracy:  100.0\n"
     ]
    }
   ],
   "source": [
    "from sklearn.neighbors import KNeighborsClassifier\n",
    "from sklearn.metrics import accuracy_score\n",
    "k = 13\n",
    "knn = KNeighborsClassifier(n_neighbors = k )\n",
    "knn.fit(test_x, test_y.values.ravel())\n",
    "pred = knn.predict(test_x)\n",
    "print('K:',k,'Accuracy: ', accuracy_score(pred, test_y.values.ravel())*100)"
   ]
  },
  {
   "cell_type": "code",
   "execution_count": null,
   "metadata": {},
   "outputs": [],
   "source": []
  }
 ],
 "metadata": {
  "kernelspec": {
   "display_name": "Python 3",
   "language": "python",
   "name": "python3"
  },
  "language_info": {
   "codemirror_mode": {
    "name": "ipython",
    "version": 3
   },
   "file_extension": ".py",
   "mimetype": "text/x-python",
   "name": "python",
   "nbconvert_exporter": "python",
   "pygments_lexer": "ipython3",
   "version": "3.8.3"
  }
 },
 "nbformat": 4,
 "nbformat_minor": 4
}
